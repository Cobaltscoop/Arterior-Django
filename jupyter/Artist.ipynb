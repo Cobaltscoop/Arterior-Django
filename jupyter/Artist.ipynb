{
 "cells": [
  {
   "cell_type": "markdown",
   "metadata": {},
   "source": [
    "# **Checking The DataBases**\n",
    "아트테리어 작가와 작품 정보 DB 정리하기"
   ]
  },
  {
   "cell_type": "code",
   "execution_count": 1,
   "metadata": {},
   "outputs": [
    {
     "data": {
      "text/plain": [
       "['../media/csv/artist.csv',\n",
       " '../media/csv/artist_bak.csv',\n",
       " '../media/csv/artist_sns.csv',\n",
       " '../media/csv/assistant.csv',\n",
       " '../media/csv/gallery.csv',\n",
       " '../media/csv/store.csv',\n",
       " '../media/csv/store_bak.csv',\n",
       " '../media/csv/store_texts.csv']"
      ]
     },
     "execution_count": 1,
     "metadata": {},
     "output_type": "execute_result"
    }
   ],
   "source": [
    "from glob import glob\n",
    "file_list = sorted(glob('../media/csv/*.*'))\n",
    "file_list"
   ]
  },
  {
   "cell_type": "markdown",
   "metadata": {},
   "source": [
    "## **1 Artist Data**\n",
    "아트테리어 작가와 작품 정보 DB 정리하기"
   ]
  },
  {
   "cell_type": "code",
   "execution_count": 2,
   "metadata": {},
   "outputs": [
    {
     "data": {
      "text/html": [
       "<div>\n",
       "<style scoped>\n",
       "    .dataframe tbody tr th:only-of-type {\n",
       "        vertical-align: middle;\n",
       "    }\n",
       "\n",
       "    .dataframe tbody tr th {\n",
       "        vertical-align: top;\n",
       "    }\n",
       "\n",
       "    .dataframe thead th {\n",
       "        text-align: right;\n",
       "    }\n",
       "</style>\n",
       "<table border=\"1\" class=\"dataframe\">\n",
       "  <thead>\n",
       "    <tr style=\"text-align: right;\">\n",
       "      <th></th>\n",
       "      <th>0</th>\n",
       "      <th>1</th>\n",
       "    </tr>\n",
       "  </thead>\n",
       "  <tbody>\n",
       "    <tr>\n",
       "      <th>0</th>\n",
       "      <td>A_01_1_banner_txt_01</td>\n",
       "      <td>산뜻한</td>\n",
       "    </tr>\n",
       "    <tr>\n",
       "      <th>1</th>\n",
       "      <td>A_01_1_banner_txt_02</td>\n",
       "      <td>영진떡집</td>\n",
       "    </tr>\n",
       "  </tbody>\n",
       "</table>\n",
       "</div>"
      ],
      "text/plain": [
       "                      0     1\n",
       "0  A_01_1_banner_txt_01   산뜻한\n",
       "1  A_01_1_banner_txt_02  영진떡집"
      ]
     },
     "execution_count": 2,
     "metadata": {},
     "output_type": "execute_result"
    }
   ],
   "source": [
    "import pandas as pd\n",
    "file_name = '../media/csv/store_texts.csv'\n",
    "table_detail = pd.read_csv(file_name, header=None)\n",
    "table_detail.head(2)"
   ]
  },
  {
   "cell_type": "code",
   "execution_count": 3,
   "metadata": {},
   "outputs": [
    {
     "data": {
      "text/html": [
       "<div>\n",
       "<style scoped>\n",
       "    .dataframe tbody tr th:only-of-type {\n",
       "        vertical-align: middle;\n",
       "    }\n",
       "\n",
       "    .dataframe tbody tr th {\n",
       "        vertical-align: top;\n",
       "    }\n",
       "\n",
       "    .dataframe thead th {\n",
       "        text-align: right;\n",
       "    }\n",
       "</style>\n",
       "<table border=\"1\" class=\"dataframe\">\n",
       "  <thead>\n",
       "    <tr style=\"text-align: right;\">\n",
       "      <th></th>\n",
       "      <th>0</th>\n",
       "      <th>1</th>\n",
       "      <th>2</th>\n",
       "      <th>3</th>\n",
       "      <th>4</th>\n",
       "    </tr>\n",
       "  </thead>\n",
       "  <tbody>\n",
       "    <tr>\n",
       "      <th>0</th>\n",
       "      <td>박현철</td>\n",
       "      <td>A</td>\n",
       "      <td>1</td>\n",
       "      <td>000-000-0000</td>\n",
       "      <td>email@email.com</td>\n",
       "    </tr>\n",
       "    <tr>\n",
       "      <th>1</th>\n",
       "      <td>나서윤</td>\n",
       "      <td>A</td>\n",
       "      <td>2</td>\n",
       "      <td>000-000-0000</td>\n",
       "      <td>email@email.com</td>\n",
       "    </tr>\n",
       "  </tbody>\n",
       "</table>\n",
       "</div>"
      ],
      "text/plain": [
       "     0  1  2             3                4\n",
       "0  박현철  A  1  000-000-0000  email@email.com\n",
       "1  나서윤  A  2  000-000-0000  email@email.com"
      ]
     },
     "execution_count": 3,
     "metadata": {},
     "output_type": "execute_result"
    }
   ],
   "source": [
    "file_name = '../media/csv/artist.csv'\n",
    "columns_name = \"name\",\"group\",\"number\",\"title\",\"subtitle\",\"email\",\"instagram\",\"facebook\",\"blog\",\"photo\"\n",
    "table_raw = pd.read_csv(file_name, header=None)\n",
    "table_raw.head(2)"
   ]
  },
  {
   "cell_type": "markdown",
   "metadata": {},
   "source": [
    "## **2 Artist Name Check**\n",
    "아트테리어 작가와 작품 정보 DB 정확도 확인하기"
   ]
  },
  {
   "cell_type": "code",
   "execution_count": 4,
   "metadata": {},
   "outputs": [
    {
     "name": "stdout",
     "output_type": "stream",
     "text": [
      "=== Perfectly matched! ===\n"
     ]
    }
   ],
   "source": [
    "result = {}\n",
    "result_raw = {}\n",
    "import re\n",
    "tokenizer = re.compile(\"[A-C]_[\\d]{2}\")\n",
    "for _ in range(len(table_raw)):\n",
    "    number = table_raw.iloc[_,2]\n",
    "    text = f\"{table_raw.iloc[_,1]}_{number:02d}\"\n",
    "    result_raw[text] = \"\".join(re.findall(\"[가-힣]+\", table_raw.iloc[_,0]))\n",
    "\n",
    "# Detail Table 에서 내용 추출하기\n",
    "result = {\"\".join(tokenizer.findall(_)):table_detail[1][num].strip()  \n",
    "          for num, _ in enumerate(table_detail[0])  \n",
    "          if _.find('profile_txt_01') != -1}\n",
    "\n",
    "# 2개의 결과값 비교하기\n",
    "count_error = 0\n",
    "for key, name in result_raw.items():\n",
    "    name_check = result[key]\n",
    "    if name != name_check:\n",
    "        print(key)\n",
    "        count_error += 1\n",
    "if count_error == 0:\n",
    "    print(\"=== Perfectly matched! ===\")"
   ]
  },
  {
   "cell_type": "markdown",
   "metadata": {},
   "source": [
    "# **Building the Artist Table**\n",
    "신규 정보를 보완하여 Artist Table 만들기"
   ]
  },
  {
   "cell_type": "markdown",
   "metadata": {},
   "source": [
    "## **1 Reading the Tables**\n",
    "작업에 필요한 정보들 한번 더 호출하기"
   ]
  },
  {
   "cell_type": "code",
   "execution_count": 5,
   "metadata": {},
   "outputs": [
    {
     "data": {
      "text/html": [
       "<div>\n",
       "<style scoped>\n",
       "    .dataframe tbody tr th:only-of-type {\n",
       "        vertical-align: middle;\n",
       "    }\n",
       "\n",
       "    .dataframe tbody tr th {\n",
       "        vertical-align: top;\n",
       "    }\n",
       "\n",
       "    .dataframe thead th {\n",
       "        text-align: right;\n",
       "    }\n",
       "</style>\n",
       "<table border=\"1\" class=\"dataframe\">\n",
       "  <thead>\n",
       "    <tr style=\"text-align: right;\">\n",
       "      <th></th>\n",
       "      <th>0</th>\n",
       "      <th>1</th>\n",
       "    </tr>\n",
       "  </thead>\n",
       "  <tbody>\n",
       "    <tr>\n",
       "      <th>0</th>\n",
       "      <td>A_01_1_banner_txt_01</td>\n",
       "      <td>산뜻한</td>\n",
       "    </tr>\n",
       "    <tr>\n",
       "      <th>1</th>\n",
       "      <td>A_01_1_banner_txt_02</td>\n",
       "      <td>영진떡집</td>\n",
       "    </tr>\n",
       "    <tr>\n",
       "      <th>2</th>\n",
       "      <td>A_01_1_banner_txt_03</td>\n",
       "      <td>X 박현철 작가</td>\n",
       "    </tr>\n",
       "  </tbody>\n",
       "</table>\n",
       "</div>"
      ],
      "text/plain": [
       "                      0         1\n",
       "0  A_01_1_banner_txt_01       산뜻한\n",
       "1  A_01_1_banner_txt_02      영진떡집\n",
       "2  A_01_1_banner_txt_03  X 박현철 작가"
      ]
     },
     "execution_count": 5,
     "metadata": {},
     "output_type": "execute_result"
    }
   ],
   "source": [
    "import pandas as pd\n",
    "file_name = '../media/csv/store_texts.csv'\n",
    "table_detail = pd.read_csv(file_name, header=None)\n",
    "table_detail.head(3)"
   ]
  },
  {
   "cell_type": "code",
   "execution_count": 6,
   "metadata": {},
   "outputs": [
    {
     "data": {
      "text/html": [
       "<div>\n",
       "<style scoped>\n",
       "    .dataframe tbody tr th:only-of-type {\n",
       "        vertical-align: middle;\n",
       "    }\n",
       "\n",
       "    .dataframe tbody tr th {\n",
       "        vertical-align: top;\n",
       "    }\n",
       "\n",
       "    .dataframe thead th {\n",
       "        text-align: right;\n",
       "    }\n",
       "</style>\n",
       "<table border=\"1\" class=\"dataframe\">\n",
       "  <thead>\n",
       "    <tr style=\"text-align: right;\">\n",
       "      <th></th>\n",
       "      <th>name</th>\n",
       "      <th>group</th>\n",
       "      <th>number</th>\n",
       "    </tr>\n",
       "  </thead>\n",
       "  <tbody>\n",
       "    <tr>\n",
       "      <th>0</th>\n",
       "      <td>박현철</td>\n",
       "      <td>A</td>\n",
       "      <td>1</td>\n",
       "    </tr>\n",
       "    <tr>\n",
       "      <th>1</th>\n",
       "      <td>나서윤</td>\n",
       "      <td>A</td>\n",
       "      <td>2</td>\n",
       "    </tr>\n",
       "    <tr>\n",
       "      <th>2</th>\n",
       "      <td>조유진</td>\n",
       "      <td>A</td>\n",
       "      <td>3</td>\n",
       "    </tr>\n",
       "    <tr>\n",
       "      <th>3</th>\n",
       "      <td>박은미</td>\n",
       "      <td>A</td>\n",
       "      <td>4</td>\n",
       "    </tr>\n",
       "    <tr>\n",
       "      <th>4</th>\n",
       "      <td>정수정</td>\n",
       "      <td>A</td>\n",
       "      <td>5</td>\n",
       "    </tr>\n",
       "  </tbody>\n",
       "</table>\n",
       "</div>"
      ],
      "text/plain": [
       "  name group number\n",
       "0  박현철     A      1\n",
       "1  나서윤     A      2\n",
       "2  조유진     A      3\n",
       "3  박은미     A      4\n",
       "4  정수정     A      5"
      ]
     },
     "execution_count": 6,
     "metadata": {},
     "output_type": "execute_result"
    }
   ],
   "source": [
    "file_name = '../media/csv/artist.csv'\n",
    "table_raw = pd.read_csv(file_name, header=None).iloc[:,:3]\n",
    "table_raw.columns = [\"name\",\"group\",\"number\"]\n",
    "table_raw['number'] = [str(_)  for _ in table_raw['number']]\n",
    "table_raw.head()"
   ]
  },
  {
   "cell_type": "markdown",
   "metadata": {},
   "source": [
    "## **2 Extracted the Data**\n",
    "- title, sub title"
   ]
  },
  {
   "cell_type": "code",
   "execution_count": 7,
   "metadata": {},
   "outputs": [
    {
     "data": {
      "text/html": [
       "<div>\n",
       "<style scoped>\n",
       "    .dataframe tbody tr th:only-of-type {\n",
       "        vertical-align: middle;\n",
       "    }\n",
       "\n",
       "    .dataframe tbody tr th {\n",
       "        vertical-align: top;\n",
       "    }\n",
       "\n",
       "    .dataframe thead th {\n",
       "        text-align: right;\n",
       "    }\n",
       "</style>\n",
       "<table border=\"1\" class=\"dataframe\">\n",
       "  <thead>\n",
       "    <tr style=\"text-align: right;\">\n",
       "      <th></th>\n",
       "      <th>0</th>\n",
       "      <th>1</th>\n",
       "    </tr>\n",
       "  </thead>\n",
       "  <tbody>\n",
       "    <tr>\n",
       "      <th>7</th>\n",
       "      <td>A_01_1_image03_txt</td>\n",
       "      <td>사장님 적극적으로 컬러선정을 해주시고 그에 맞춰 해결방안을 모색하고 작업을 하였다.</td>\n",
       "    </tr>\n",
       "    <tr>\n",
       "      <th>8</th>\n",
       "      <td>A_01_1_profile_txt_01</td>\n",
       "      <td>박현철</td>\n",
       "    </tr>\n",
       "    <tr>\n",
       "      <th>9</th>\n",
       "      <td>A_01_1_profile_txt_02</td>\n",
       "      <td>시각예술가</td>\n",
       "    </tr>\n",
       "    <tr>\n",
       "      <th>10</th>\n",
       "      <td>A_01_1_profile_txt_03</td>\n",
       "      <td>생명체에 대한 다양한 시점에서 관찰하고 연구하며, 설치작업을 하고 있다.</td>\n",
       "    </tr>\n",
       "    <tr>\n",
       "      <th>11</th>\n",
       "      <td>A_01_2_banner_txt_01</td>\n",
       "      <td>자주오고 싶은 카페</td>\n",
       "    </tr>\n",
       "  </tbody>\n",
       "</table>\n",
       "</div>"
      ],
      "text/plain": [
       "                        0                                               1\n",
       "7      A_01_1_image03_txt  사장님 적극적으로 컬러선정을 해주시고 그에 맞춰 해결방안을 모색하고 작업을 하였다.\n",
       "8   A_01_1_profile_txt_01                                             박현철\n",
       "9   A_01_1_profile_txt_02                                           시각예술가\n",
       "10  A_01_1_profile_txt_03       생명체에 대한 다양한 시점에서 관찰하고 연구하며, 설치작업을 하고 있다. \n",
       "11   A_01_2_banner_txt_01                                      자주오고 싶은 카페"
      ]
     },
     "execution_count": 7,
     "metadata": {},
     "output_type": "execute_result"
    }
   ],
   "source": [
    "table_detail.iloc[7:12,:]"
   ]
  },
  {
   "cell_type": "code",
   "execution_count": 8,
   "metadata": {},
   "outputs": [
    {
     "data": {
      "text/html": [
       "<div>\n",
       "<style scoped>\n",
       "    .dataframe tbody tr th:only-of-type {\n",
       "        vertical-align: middle;\n",
       "    }\n",
       "\n",
       "    .dataframe tbody tr th {\n",
       "        vertical-align: top;\n",
       "    }\n",
       "\n",
       "    .dataframe thead th {\n",
       "        text-align: right;\n",
       "    }\n",
       "</style>\n",
       "<table border=\"1\" class=\"dataframe\">\n",
       "  <thead>\n",
       "    <tr style=\"text-align: right;\">\n",
       "      <th></th>\n",
       "      <th>name</th>\n",
       "      <th>group</th>\n",
       "      <th>number</th>\n",
       "      <th>title</th>\n",
       "      <th>subtitle</th>\n",
       "      <th>email</th>\n",
       "      <th>instagram</th>\n",
       "      <th>facebook</th>\n",
       "      <th>blog</th>\n",
       "      <th>photo</th>\n",
       "    </tr>\n",
       "  </thead>\n",
       "  <tbody>\n",
       "    <tr>\n",
       "      <th>34</th>\n",
       "      <td>안다혜</td>\n",
       "      <td>C</td>\n",
       "      <td>10</td>\n",
       "      <td>설치미술, 타이포그라피 디자인</td>\n",
       "      <td>삶과 언어를 탐구하며 다양한 작업을 하고 있는 시각예술가 안다혜입니다.</td>\n",
       "      <td></td>\n",
       "      <td></td>\n",
       "      <td></td>\n",
       "      <td></td>\n",
       "      <td></td>\n",
       "    </tr>\n",
       "    <tr>\n",
       "      <th>35</th>\n",
       "      <td>심효선</td>\n",
       "      <td>C</td>\n",
       "      <td>11</td>\n",
       "      <td>평면, 설치</td>\n",
       "      <td>드로잉 작업을 바탕으로 평면과 설치작업을 하고 있습니다.</td>\n",
       "      <td></td>\n",
       "      <td></td>\n",
       "      <td></td>\n",
       "      <td></td>\n",
       "      <td></td>\n",
       "    </tr>\n",
       "    <tr>\n",
       "      <th>36</th>\n",
       "      <td>임우현</td>\n",
       "      <td>C</td>\n",
       "      <td>12</td>\n",
       "      <td>평면회화(동양화), 디지털페인팅, 드라마 소품작업 및 대역 등</td>\n",
       "      <td>동양화를 전공하여 주로 섬세하게 인물과 인형을 그리며 수작업, 디지털작업 모두 겸하...</td>\n",
       "      <td></td>\n",
       "      <td></td>\n",
       "      <td></td>\n",
       "      <td></td>\n",
       "      <td></td>\n",
       "    </tr>\n",
       "  </tbody>\n",
       "</table>\n",
       "</div>"
      ],
      "text/plain": [
       "   name group number                               title  \\\n",
       "34  안다혜     C     10                    설치미술, 타이포그라피 디자인   \n",
       "35  심효선     C     11                              평면, 설치   \n",
       "36  임우현     C     12  평면회화(동양화), 디지털페인팅, 드라마 소품작업 및 대역 등   \n",
       "\n",
       "                                             subtitle email instagram  \\\n",
       "34            삶과 언어를 탐구하며 다양한 작업을 하고 있는 시각예술가 안다혜입니다.                   \n",
       "35                    드로잉 작업을 바탕으로 평면과 설치작업을 하고 있습니다.                   \n",
       "36  동양화를 전공하여 주로 섬세하게 인물과 인형을 그리며 수작업, 디지털작업 모두 겸하...                   \n",
       "\n",
       "   facebook blog photo  \n",
       "34                      \n",
       "35                      \n",
       "36                      "
      ]
     },
     "execution_count": 8,
     "metadata": {},
     "output_type": "execute_result"
    }
   ],
   "source": [
    "import re\n",
    "def tokenizer_table(table, number):\n",
    "    r\"\"\"Profile 정보를 추출하는 함수\"\"\"\n",
    "    result = {}\n",
    "    result_list = []\n",
    "    regex_text = \"[A-C]_[\\d]{2}\"\n",
    "    check_text = \"_1_profile_txt_0\" + str(number)\n",
    "    tokenizer = re.compile(regex_text + check_text)\n",
    "    for _ in range(len(table)):\n",
    "        name_index = table.iloc[_,0]\n",
    "        name_text = table.iloc[_,1]\n",
    "        check = tokenizer.findall(name_index)\n",
    "\n",
    "        # 유효값이 발견시 작업\n",
    "        if len(check) > 0:\n",
    "            code = re.findall(regex_text, \"\".join(check))\n",
    "            result[\"\".join(code)] = name_text.strip()\n",
    "            result_list.append(name_text.strip())\n",
    "    return result_list # result\n",
    "table_raw.insert(3,'title',tokenizer_table(table_detail, 2))\n",
    "table_raw.insert(4,'subtitle',tokenizer_table(table_detail, 3))\n",
    "for _col_name in [\"email\",\"instagram\",\"facebook\",\"blog\",\"photo\"]:\n",
    "    table_raw[_col_name] = ''    \n",
    "table_raw.tail(3)"
   ]
  },
  {
   "cell_type": "markdown",
   "metadata": {},
   "source": [
    "## **3 Extracted the SNS Data**\n",
    "Social Network Data MA"
   ]
  },
  {
   "cell_type": "code",
   "execution_count": 9,
   "metadata": {},
   "outputs": [
    {
     "name": "stdout",
     "output_type": "stream",
     "text": [
      "{'instagram', 'email', 'facebook', 'blog'}\n"
     ]
    },
    {
     "data": {
      "text/html": [
       "<div>\n",
       "<style scoped>\n",
       "    .dataframe tbody tr th:only-of-type {\n",
       "        vertical-align: middle;\n",
       "    }\n",
       "\n",
       "    .dataframe tbody tr th {\n",
       "        vertical-align: top;\n",
       "    }\n",
       "\n",
       "    .dataframe thead th {\n",
       "        text-align: right;\n",
       "    }\n",
       "</style>\n",
       "<table border=\"1\" class=\"dataframe\">\n",
       "  <thead>\n",
       "    <tr style=\"text-align: right;\">\n",
       "      <th></th>\n",
       "      <th>artist</th>\n",
       "      <th>Index</th>\n",
       "      <th>sns_type</th>\n",
       "      <th>sns_url</th>\n",
       "    </tr>\n",
       "  </thead>\n",
       "  <tbody>\n",
       "    <tr>\n",
       "      <th>0</th>\n",
       "      <td>박현철</td>\n",
       "      <td>A_01_1_profile_social_txt01</td>\n",
       "      <td>instagram</td>\n",
       "      <td>https://www.instagram.com/__parkhwa/</td>\n",
       "    </tr>\n",
       "    <tr>\n",
       "      <th>1</th>\n",
       "      <td>나서윤</td>\n",
       "      <td>A_02_1_profile_social_txt01</td>\n",
       "      <td>blog</td>\n",
       "      <td>https://www.instagram.com/s_t_u_d_i_o_n_a</td>\n",
       "    </tr>\n",
       "  </tbody>\n",
       "</table>\n",
       "</div>"
      ],
      "text/plain": [
       "  artist                        Index   sns_type  \\\n",
       "0    박현철  A_01_1_profile_social_txt01  instagram   \n",
       "1    나서윤  A_02_1_profile_social_txt01       blog   \n",
       "\n",
       "                                     sns_url  \n",
       "0       https://www.instagram.com/__parkhwa/  \n",
       "1  https://www.instagram.com/s_t_u_d_i_o_n_a  "
      ]
     },
     "execution_count": 9,
     "metadata": {},
     "output_type": "execute_result"
    }
   ],
   "source": [
    "file_name = '../media/csv/artist_sns.csv'\n",
    "columns_name = \"name\",\"group\",\"number\",\"title\",\"subtitle\",\"email\",\"instagram\",\"facebook\",\"blog\",\"photo\"\n",
    "table_sns = pd.read_csv(file_name, header=0)\n",
    "print(set(table_sns['sns_type'].to_list()))\n",
    "table_sns.head(2)"
   ]
  },
  {
   "cell_type": "code",
   "execution_count": 10,
   "metadata": {},
   "outputs": [
    {
     "data": {
      "text/html": [
       "<div>\n",
       "<style scoped>\n",
       "    .dataframe tbody tr th:only-of-type {\n",
       "        vertical-align: middle;\n",
       "    }\n",
       "\n",
       "    .dataframe tbody tr th {\n",
       "        vertical-align: top;\n",
       "    }\n",
       "\n",
       "    .dataframe thead th {\n",
       "        text-align: right;\n",
       "    }\n",
       "</style>\n",
       "<table border=\"1\" class=\"dataframe\">\n",
       "  <thead>\n",
       "    <tr style=\"text-align: right;\">\n",
       "      <th></th>\n",
       "      <th>name</th>\n",
       "      <th>group</th>\n",
       "      <th>number</th>\n",
       "      <th>title</th>\n",
       "      <th>subtitle</th>\n",
       "      <th>email</th>\n",
       "      <th>instagram</th>\n",
       "      <th>facebook</th>\n",
       "      <th>blog</th>\n",
       "      <th>photo</th>\n",
       "    </tr>\n",
       "  </thead>\n",
       "  <tbody>\n",
       "    <tr>\n",
       "      <th>0</th>\n",
       "      <td>박현철</td>\n",
       "      <td>A</td>\n",
       "      <td>1</td>\n",
       "      <td>시각예술가</td>\n",
       "      <td>생명체에 대한 다양한 시점에서 관찰하고 연구하며, 설치작업을 하고 있다.</td>\n",
       "      <td>NaN</td>\n",
       "      <td>https://www.instagram.com/__parkhwa/</td>\n",
       "      <td>NaN</td>\n",
       "      <td>NaN</td>\n",
       "      <td></td>\n",
       "    </tr>\n",
       "    <tr>\n",
       "      <th>1</th>\n",
       "      <td>나서윤</td>\n",
       "      <td>A</td>\n",
       "      <td>2</td>\n",
       "      <td>브랜딩디자인, 캘리그라피, 사진, 서양화</td>\n",
       "      <td>다양한 분야의 전문가, 예술가와 소통하며 풍요로운 예술 문화를 만들어가고 싶은 시각...</td>\n",
       "      <td>NaN</td>\n",
       "      <td>https://www.instagram.com/seoyoon_na/</td>\n",
       "      <td>NaN</td>\n",
       "      <td>https://www.instagram.com/s_t_u_d_i_o_n_a</td>\n",
       "      <td></td>\n",
       "    </tr>\n",
       "    <tr>\n",
       "      <th>2</th>\n",
       "      <td>조유진</td>\n",
       "      <td>A</td>\n",
       "      <td>3</td>\n",
       "      <td>일러스트레이터, UX/UI 디자이너</td>\n",
       "      <td>들숨에 선 하나 그리고, 날숨에 픽셀 하나 옮기고.</td>\n",
       "      <td>NaN</td>\n",
       "      <td>NaN</td>\n",
       "      <td>NaN</td>\n",
       "      <td>NaN</td>\n",
       "      <td></td>\n",
       "    </tr>\n",
       "  </tbody>\n",
       "</table>\n",
       "</div>"
      ],
      "text/plain": [
       "  name group number                   title  \\\n",
       "0  박현철     A      1                   시각예술가   \n",
       "1  나서윤     A      2  브랜딩디자인, 캘리그라피, 사진, 서양화   \n",
       "2  조유진     A      3     일러스트레이터, UX/UI 디자이너   \n",
       "\n",
       "                                            subtitle email  \\\n",
       "0           생명체에 대한 다양한 시점에서 관찰하고 연구하며, 설치작업을 하고 있다.   NaN   \n",
       "1  다양한 분야의 전문가, 예술가와 소통하며 풍요로운 예술 문화를 만들어가고 싶은 시각...   NaN   \n",
       "2                       들숨에 선 하나 그리고, 날숨에 픽셀 하나 옮기고.   NaN   \n",
       "\n",
       "                               instagram facebook  \\\n",
       "0   https://www.instagram.com/__parkhwa/      NaN   \n",
       "1  https://www.instagram.com/seoyoon_na/      NaN   \n",
       "2                                    NaN      NaN   \n",
       "\n",
       "                                        blog photo  \n",
       "0                                        NaN        \n",
       "1  https://www.instagram.com/s_t_u_d_i_o_n_a        \n",
       "2                                        NaN        "
      ]
     },
     "execution_count": 10,
     "metadata": {},
     "output_type": "execute_result"
    }
   ],
   "source": [
    "regex_text  = \"[A-C]_[\\d]{2}\"\n",
    "result_list = []\n",
    "for _ in range(len(table_sns)):\n",
    "    table_instance = table_sns.iloc[_,:]\n",
    "    name_index = \"\".join(re.findall(regex_text, table_instance['Index']))\n",
    "    name_alphabet = \"\".join(re.findall('[A-C]+', name_index))\n",
    "    name_number = str(int(\"\".join(re.findall('[\\d]+', name_index))))\n",
    "    _index = table_raw[(table_raw['group']==name_alphabet) & (table_raw['number']==name_number)].index.to_list()[0]\n",
    "    table_raw.loc[_index, table_instance['sns_type']] = table_instance['sns_url']\n",
    "    \n",
    "# filling the NaN data\n",
    "import numpy as np\n",
    "for _col in [\"email\",\"instagram\",\"facebook\",\"blog\"]:\n",
    "    data_list = []\n",
    "    for _ in table_raw[_col]:\n",
    "        if _ == '': data_list.append(np.nan) # NaN 데이터 추가하기\n",
    "        else: data_list.append(_)            # 원본 데이터 그래도 덧붙이기\n",
    "    table_raw[_col] = data_list\n",
    "table_raw.head(3)"
   ]
  },
  {
   "cell_type": "markdown",
   "metadata": {},
   "source": [
    "## **4 Insert the Profile Photo**\n",
    "프로필 사진 파일 연결하기\n",
    "`\\artist\\A01.jpg`"
   ]
  },
  {
   "cell_type": "code",
   "execution_count": 11,
   "metadata": {},
   "outputs": [
    {
     "data": {
      "text/html": [
       "<div>\n",
       "<style scoped>\n",
       "    .dataframe tbody tr th:only-of-type {\n",
       "        vertical-align: middle;\n",
       "    }\n",
       "\n",
       "    .dataframe tbody tr th {\n",
       "        vertical-align: top;\n",
       "    }\n",
       "\n",
       "    .dataframe thead th {\n",
       "        text-align: right;\n",
       "    }\n",
       "</style>\n",
       "<table border=\"1\" class=\"dataframe\">\n",
       "  <thead>\n",
       "    <tr style=\"text-align: right;\">\n",
       "      <th></th>\n",
       "      <th>name</th>\n",
       "      <th>group</th>\n",
       "      <th>number</th>\n",
       "      <th>title</th>\n",
       "      <th>subtitle</th>\n",
       "      <th>email</th>\n",
       "      <th>instagram</th>\n",
       "      <th>facebook</th>\n",
       "      <th>blog</th>\n",
       "      <th>photo</th>\n",
       "    </tr>\n",
       "  </thead>\n",
       "  <tbody>\n",
       "    <tr>\n",
       "      <th>0</th>\n",
       "      <td>박현철</td>\n",
       "      <td>A</td>\n",
       "      <td>1</td>\n",
       "      <td>시각예술가</td>\n",
       "      <td>생명체에 대한 다양한 시점에서 관찰하고 연구하며, 설치작업을 하고 있다.</td>\n",
       "      <td>NaN</td>\n",
       "      <td>https://www.instagram.com/__parkhwa/</td>\n",
       "      <td>NaN</td>\n",
       "      <td>NaN</td>\n",
       "      <td>artist/A01.jpg</td>\n",
       "    </tr>\n",
       "    <tr>\n",
       "      <th>1</th>\n",
       "      <td>나서윤</td>\n",
       "      <td>A</td>\n",
       "      <td>2</td>\n",
       "      <td>브랜딩디자인, 캘리그라피, 사진, 서양화</td>\n",
       "      <td>다양한 분야의 전문가, 예술가와 소통하며 풍요로운 예술 문화를 만들어가고 싶은 시각...</td>\n",
       "      <td>NaN</td>\n",
       "      <td>https://www.instagram.com/seoyoon_na/</td>\n",
       "      <td>NaN</td>\n",
       "      <td>https://www.instagram.com/s_t_u_d_i_o_n_a</td>\n",
       "      <td>artist/A02.jpg</td>\n",
       "    </tr>\n",
       "    <tr>\n",
       "      <th>2</th>\n",
       "      <td>조유진</td>\n",
       "      <td>A</td>\n",
       "      <td>3</td>\n",
       "      <td>일러스트레이터, UX/UI 디자이너</td>\n",
       "      <td>들숨에 선 하나 그리고, 날숨에 픽셀 하나 옮기고.</td>\n",
       "      <td>NaN</td>\n",
       "      <td>NaN</td>\n",
       "      <td>NaN</td>\n",
       "      <td>NaN</td>\n",
       "      <td>artist/A03.jpg</td>\n",
       "    </tr>\n",
       "  </tbody>\n",
       "</table>\n",
       "</div>"
      ],
      "text/plain": [
       "  name group number                   title  \\\n",
       "0  박현철     A      1                   시각예술가   \n",
       "1  나서윤     A      2  브랜딩디자인, 캘리그라피, 사진, 서양화   \n",
       "2  조유진     A      3     일러스트레이터, UX/UI 디자이너   \n",
       "\n",
       "                                            subtitle email  \\\n",
       "0           생명체에 대한 다양한 시점에서 관찰하고 연구하며, 설치작업을 하고 있다.   NaN   \n",
       "1  다양한 분야의 전문가, 예술가와 소통하며 풍요로운 예술 문화를 만들어가고 싶은 시각...   NaN   \n",
       "2                       들숨에 선 하나 그리고, 날숨에 픽셀 하나 옮기고.   NaN   \n",
       "\n",
       "                               instagram facebook  \\\n",
       "0   https://www.instagram.com/__parkhwa/      NaN   \n",
       "1  https://www.instagram.com/seoyoon_na/      NaN   \n",
       "2                                    NaN      NaN   \n",
       "\n",
       "                                        blog           photo  \n",
       "0                                        NaN  artist/A01.jpg  \n",
       "1  https://www.instagram.com/s_t_u_d_i_o_n_a  artist/A02.jpg  \n",
       "2                                        NaN  artist/A03.jpg  "
      ]
     },
     "execution_count": 11,
     "metadata": {},
     "output_type": "execute_result"
    }
   ],
   "source": [
    "table_raw[\"photo\"] = [f\"artist/{table_raw.iloc[_,1]}{int(table_raw.iloc[_,2]):02d}.jpg\"   for _ in range(len(table_raw))]\n",
    "table_raw.head(3)"
   ]
  },
  {
   "cell_type": "markdown",
   "metadata": {},
   "source": [
    "# **Saving the file to CSV**\n",
    "CSV 파일로 저장하기"
   ]
  },
  {
   "cell_type": "code",
   "execution_count": 12,
   "metadata": {},
   "outputs": [],
   "source": [
    "table_raw.to_csv(\"test.csv\", index=None, header=None)"
   ]
  }
 ],
 "metadata": {
  "kernelspec": {
   "display_name": "Python 3",
   "language": "python",
   "name": "python3"
  },
  "language_info": {
   "codemirror_mode": {
    "name": "ipython",
    "version": 3
   },
   "file_extension": ".py",
   "mimetype": "text/x-python",
   "name": "python",
   "nbconvert_exporter": "python",
   "pygments_lexer": "ipython3",
   "version": "3.8.5"
  }
 },
 "nbformat": 4,
 "nbformat_minor": 5
}
