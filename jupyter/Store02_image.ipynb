{
 "cells": [
  {
   "cell_type": "markdown",
   "id": "eight-tanzania",
   "metadata": {},
   "source": [
    "# **Store Information**\n",
    "- Store DataTable 에 추가될 **Text 내용** 확인하기\n",
    "- Store DataTable 에 추가될 **Image 내용** 확인하기 "
   ]
  },
  {
   "cell_type": "markdown",
   "id": "super-tomato",
   "metadata": {},
   "source": [
    "## **1 Reading the Store Code**\n",
    "앞에서 작업 완료한 Table 불러오기"
   ]
  },
  {
   "cell_type": "code",
   "execution_count": 1,
   "id": "south-charleston",
   "metadata": {},
   "outputs": [
    {
     "data": {
      "text/html": [
       "<div>\n",
       "<style scoped>\n",
       "    .dataframe tbody tr th:only-of-type {\n",
       "        vertical-align: middle;\n",
       "    }\n",
       "\n",
       "    .dataframe tbody tr th {\n",
       "        vertical-align: top;\n",
       "    }\n",
       "\n",
       "    .dataframe thead th {\n",
       "        text-align: right;\n",
       "    }\n",
       "</style>\n",
       "<table border=\"1\" class=\"dataframe\">\n",
       "  <thead>\n",
       "    <tr style=\"text-align: right;\">\n",
       "      <th></th>\n",
       "      <th>0</th>\n",
       "      <th>1</th>\n",
       "      <th>2</th>\n",
       "      <th>3</th>\n",
       "      <th>4</th>\n",
       "      <th>5</th>\n",
       "      <th>6</th>\n",
       "      <th>7</th>\n",
       "      <th>8</th>\n",
       "      <th>9</th>\n",
       "      <th>10</th>\n",
       "      <th>11</th>\n",
       "      <th>12</th>\n",
       "      <th>13</th>\n",
       "      <th>14</th>\n",
       "      <th>15</th>\n",
       "      <th>16</th>\n",
       "      <th>17</th>\n",
       "    </tr>\n",
       "  </thead>\n",
       "  <tbody>\n",
       "    <tr>\n",
       "      <th>141</th>\n",
       "      <td>C122</td>\n",
       "      <td>신현선무관</td>\n",
       "      <td>임우현</td>\n",
       "      <td>학원</td>\n",
       "      <td>서비스</td>\n",
       "      <td>안현석</td>\n",
       "      <td>010-2275-5616</td>\n",
       "      <td>장군봉1길 45, 2층</td>\n",
       "      <td>서울특별시 관악구 장군봉1길 45</td>\n",
       "      <td>서울특별시 관악구 봉천동 927-18</td>\n",
       "      <td>126.942606</td>\n",
       "      <td>37.481743</td>\n",
       "      <td>마리텔 출연 사범님이 가르치는 합기도</td>\n",
       "      <td>마리텔 출연 사범님이 가르치는 합기도</td>\n",
       "      <td>간판 등 큰 항목 외에 세부적으로 실측, 제작해야 할 시트지 등이 많았고 수작업이 ...</td>\n",
       "      <td>로고(파일)의 부재, 두 간판의 전구교체 및 천갈이 필요, 계단 내 대형 게시판 방...</td>\n",
       "      <td>점포주 요청대로 기본적으로 귀엽거나 가볍지 않은 분위기로 글자의 경우 필기체(붓글씨...</td>\n",
       "      <td>일단 천갈이 후 전면, 돌출간판에 LED전구를 새로 부착하여 시인성이 매우 높아졌으...</td>\n",
       "    </tr>\n",
       "    <tr>\n",
       "      <th>142</th>\n",
       "      <td>C123</td>\n",
       "      <td>임서하헤어마벨</td>\n",
       "      <td>임우현</td>\n",
       "      <td>미용업</td>\n",
       "      <td>생활잡화</td>\n",
       "      <td>임서하</td>\n",
       "      <td>010-8689-8650</td>\n",
       "      <td>장군봉1길 29</td>\n",
       "      <td>서울특별시 관악구 장군봉1길 29</td>\n",
       "      <td>서울특별시 관악구 봉천동 930-3</td>\n",
       "      <td>126.941729</td>\n",
       "      <td>37.481842</td>\n",
       "      <td>친절한 사장님이 해주시는 머리</td>\n",
       "      <td>친절한 사장님이 해주시는 머리 임서하 헤어마벨</td>\n",
       "      <td>개인적으로 기존과 다른 새로운 디자인으로 변화시키고 싶었으나 점포주가 큰 변화를 원...</td>\n",
       "      <td>타 업체에서 시공한 지 얼마 되지 않았지만 마감문제로 간판의 오염이 기간에 비해 심...</td>\n",
       "      <td>점포주는 큰 변화보다 기존의 이미지를 유지하며 깔끔하게 작업이 되길 희망하였다. 그...</td>\n",
       "      <td>타점포와는 달리 간판 자체를 교체함으로써 단순 천갈이에 비해 훨씬 효과적인 결과를 ...</td>\n",
       "    </tr>\n",
       "    <tr>\n",
       "      <th>143</th>\n",
       "      <td>C124</td>\n",
       "      <td>정가한정식</td>\n",
       "      <td>임우현</td>\n",
       "      <td>음식점</td>\n",
       "      <td>음식점</td>\n",
       "      <td>유영옥</td>\n",
       "      <td>010-5331-7715</td>\n",
       "      <td>남부순환로 1710</td>\n",
       "      <td>서울특별시 관악구 남부순환로 1710 이너스빌딩</td>\n",
       "      <td>서울특별시 관악구 봉천동 945-10 이너스빌딩</td>\n",
       "      <td>126.939874</td>\n",
       "      <td>37.482754</td>\n",
       "      <td>넓고 쾌적한 점포를 더욱 인상깊게</td>\n",
       "      <td>넓고 쾌적한 점포를 더욱 인상깊게 정가 한정식</td>\n",
       "      <td>첫 미팅 후 상담했던 점포주 내외의 의견이 달라 두 번쨰 미팅부터 방향을 바꾸었다....</td>\n",
       "      <td>가게의 규모는 상당히 크고 까끔했지만 기존간판의 야간 시 시인성이 떨어지고 타점포에...</td>\n",
       "      <td>점포주의 요청으로 크지 않아도 시인성이 좋은 붉은색 간판으로 작업하였고 당시 현수막...</td>\n",
       "      <td>붉은색의 코너간판은 주간에나 야간, 특히 야간엔 시인성이 좋아졌고 큰 벽화는 시각적...</td>\n",
       "    </tr>\n",
       "  </tbody>\n",
       "</table>\n",
       "</div>"
      ],
      "text/plain": [
       "       0        1    2    3     4    5              6             7   \\\n",
       "141  C122    신현선무관  임우현   학원   서비스  안현석  010-2275-5616  장군봉1길 45, 2층   \n",
       "142  C123  임서하헤어마벨  임우현  미용업  생활잡화  임서하  010-8689-8650      장군봉1길 29   \n",
       "143  C124    정가한정식  임우현  음식점   음식점  유영옥  010-5331-7715    남부순환로 1710   \n",
       "\n",
       "                             8                           9           10  \\\n",
       "141          서울특별시 관악구 장군봉1길 45        서울특별시 관악구 봉천동 927-18  126.942606   \n",
       "142          서울특별시 관악구 장군봉1길 29         서울특별시 관악구 봉천동 930-3  126.941729   \n",
       "143  서울특별시 관악구 남부순환로 1710 이너스빌딩  서울특별시 관악구 봉천동 945-10 이너스빌딩  126.939874   \n",
       "\n",
       "            11                    12                         13  \\\n",
       "141  37.481743  마리텔 출연 사범님이 가르치는 합기도       마리텔 출연 사범님이 가르치는 합기도   \n",
       "142  37.481842      친절한 사장님이 해주시는 머리  친절한 사장님이 해주시는 머리 임서하 헤어마벨   \n",
       "143  37.482754    넓고 쾌적한 점포를 더욱 인상깊게  넓고 쾌적한 점포를 더욱 인상깊게 정가 한정식   \n",
       "\n",
       "                                                    14  \\\n",
       "141  간판 등 큰 항목 외에 세부적으로 실측, 제작해야 할 시트지 등이 많았고 수작업이 ...   \n",
       "142  개인적으로 기존과 다른 새로운 디자인으로 변화시키고 싶었으나 점포주가 큰 변화를 원...   \n",
       "143  첫 미팅 후 상담했던 점포주 내외의 의견이 달라 두 번쨰 미팅부터 방향을 바꾸었다....   \n",
       "\n",
       "                                                    15  \\\n",
       "141  로고(파일)의 부재, 두 간판의 전구교체 및 천갈이 필요, 계단 내 대형 게시판 방...   \n",
       "142  타 업체에서 시공한 지 얼마 되지 않았지만 마감문제로 간판의 오염이 기간에 비해 심...   \n",
       "143  가게의 규모는 상당히 크고 까끔했지만 기존간판의 야간 시 시인성이 떨어지고 타점포에...   \n",
       "\n",
       "                                                    16  \\\n",
       "141  점포주 요청대로 기본적으로 귀엽거나 가볍지 않은 분위기로 글자의 경우 필기체(붓글씨...   \n",
       "142  점포주는 큰 변화보다 기존의 이미지를 유지하며 깔끔하게 작업이 되길 희망하였다. 그...   \n",
       "143  점포주의 요청으로 크지 않아도 시인성이 좋은 붉은색 간판으로 작업하였고 당시 현수막...   \n",
       "\n",
       "                                                    17  \n",
       "141  일단 천갈이 후 전면, 돌출간판에 LED전구를 새로 부착하여 시인성이 매우 높아졌으...  \n",
       "142  타점포와는 달리 간판 자체를 교체함으로써 단순 천갈이에 비해 훨씬 효과적인 결과를 ...  \n",
       "143  붉은색의 코너간판은 주간에나 야간, 특히 야간엔 시인성이 좋아졌고 큰 벽화는 시각적...  "
      ]
     },
     "execution_count": 1,
     "metadata": {},
     "output_type": "execute_result"
    }
   ],
   "source": [
    "import pandas as pd\n",
    "file_name = '../media/csv/store_raw.csv'\n",
    "table_source = pd.read_csv(file_name, header=None)\n",
    "table_source.tail(3)"
   ]
  },
  {
   "cell_type": "markdown",
   "id": "timely-titanium",
   "metadata": {},
   "source": [
    "## **2 Matching the Image File Names**\n",
    "Store Code 와 연결된 파일 이름들 확인하기"
   ]
  },
  {
   "cell_type": "code",
   "execution_count": 26,
   "id": "laughing-insight",
   "metadata": {},
   "outputs": [
    {
     "data": {
      "text/plain": [
       "'../media/store/A_01_1_banner_img_01.jpg ; ../media/store/A_01_1_banner_img_02.jpg ; ../media/store/A_01_1_image01_01.jpg ; ../media/store/A_01_1_image01_02.jpg ; ../media/store/A_01_1_image01_03.jpg ; ../media/store/A_01_1_image02_01.jpg ; ../media/store/A_01_1_image02_02.jpg ; ../media/store/A_01_1_image02_03.jpg ; ../media/store/A_01_1_image03_01.jpg ; ../media/store/A_01_1_image03_02.jpg'"
      ]
     },
     "execution_count": 26,
     "metadata": {},
     "output_type": "execute_result"
    }
   ],
   "source": [
    "from glob import glob\n",
    "text_file = '*.jpg'\n",
    "text_path = '../media/store/'\n",
    "file_list = sorted(glob(text_path + text_file))\n",
    "\" ; \".join(file_list[:10])"
   ]
  },
  {
   "cell_type": "code",
   "execution_count": 55,
   "id": "exclusive-county",
   "metadata": {},
   "outputs": [],
   "source": [
    "import re\n",
    "\n",
    "# 코드와 파일이름 추출하기\n",
    "def filename_filter(file_name):\n",
    "    file_name = file_name.replace(text_path, '')  # 폴더 지우기\n",
    "    replace_token = \"\".join(re.findall('[A-C]_[\\d]{2}_[\\d]_', file_name))\n",
    "\n",
    "    # 삭제 및 추출 과정 1 : Banner 이미지\n",
    "    if file_name.find('_banner_img_') != -1:\n",
    "        file_name = file_name.replace(replace_token, '').replace('_img_0','')\n",
    "        replace_token = replace_token.replace('_','')\n",
    "        file_name = (text_path + replace_token + '_' + file_name)\n",
    "\n",
    "    # 삭제 및 추출 과정 2 : Store 변경 Image\n",
    "    elif file_name.find('_image0') != -1:\n",
    "        file_name = file_name.replace(replace_token, '').replace('image0','').replace('_','')\n",
    "        replace_token = replace_token.replace('_','')\n",
    "        file_name = text_path + replace_token + '_image_' + file_name\n",
    "\n",
    "    # 기타 데이터는 화면으로 출력하기\n",
    "    else:\n",
    "        print (file_name)\n",
    "    return file_name"
   ]
  },
  {
   "cell_type": "code",
   "execution_count": 57,
   "id": "peaceful-sewing",
   "metadata": {},
   "outputs": [],
   "source": [
    "_ = [filename_filter(_) for _ in file_list]"
   ]
  },
  {
   "cell_type": "code",
   "execution_count": 58,
   "id": "clear-album",
   "metadata": {},
   "outputs": [],
   "source": [
    "# import os\n",
    "# for _ in file_list:\n",
    "#     file_name_replace = filename_filter(_)\n",
    "#     os.rename(_, file_name_replace)"
   ]
  }
 ],
 "metadata": {
  "kernelspec": {
   "display_name": "Python 3",
   "language": "python",
   "name": "python3"
  },
  "language_info": {
   "codemirror_mode": {
    "name": "ipython",
    "version": 3
   },
   "file_extension": ".py",
   "mimetype": "text/x-python",
   "name": "python",
   "nbconvert_exporter": "python",
   "pygments_lexer": "ipython3",
   "version": "3.6.8"
  }
 },
 "nbformat": 4,
 "nbformat_minor": 5
}
