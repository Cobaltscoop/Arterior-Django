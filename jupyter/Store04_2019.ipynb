{
 "cells": [
  {
   "cell_type": "markdown",
   "id": "treated-liabilities",
   "metadata": {},
   "source": [
    "# **Image Optimization & DB 2019**\n",
    "## **1 2019 DataBases**\n",
    "```\n",
    "text-table \n",
    "```"
   ]
  },
  {
   "cell_type": "code",
   "execution_count": 1,
   "id": "enhanced-bicycle",
   "metadata": {},
   "outputs": [],
   "source": [
    "# //div[contains(@class, 'class1') and contains(@class, 'class2')]\n",
    "# section_wrap  pc_section  side_basic\n",
    "# section_bg _section_bg _interactive_bg  fixed_bg"
   ]
  },
  {
   "cell_type": "code",
   "execution_count": 2,
   "id": "correct-employer",
   "metadata": {},
   "outputs": [],
   "source": [
    "page_index = 9\n",
    "\n",
    "import requests, re\n",
    "from lxml.html import fromstring, tostring\n",
    "regex_url = f\"http://arterior-ga.com/{page_index}\"\n",
    "regex_imweb = \"^https?://(?:[a-z0-9\\-]+\\.)+[a-z]{2,6}(?:/[^/#?]+)+\\.(?:jpg|gif|png)\"\n",
    "regex_imweb = \"https?:\\/\\/(?:www\\.|(?!www))cdn\\.imweb.me\\/thumbnail\\/[a-zA-Z0-9-]+\\/[a-zA-Z0-9-]+\\.(?:jpg|gif|png)\"\n",
    "regex_image = 'https?:\\/\\/(?:www\\.|(?!www))[a-zA-Z0-9][a-zA-Z0-9-]+[a-zA-Z0-9]\\.[^\\s]{2,}|www\\.[a-zA-Z0-9][a-zA-Z0-9-]+[a-zA-Z0-9]\\.(?:jpg|gif|png)$|https?:\\/\\/(?:www\\.|(?!www))[a-zA-Z0-9]+\\.[^\\s]{2,}|www\\.[a-zA-Z0-9]+\\.(?:jpg|gif|png)$'\n",
    "regex_tokenizer = re.compile(regex_imweb)\n",
    "def get_image(url:str, xpath:str, get=None):\n",
    "    result = []\n",
    "    response      = requests.get(url).content.decode('utf-8')\n",
    "    response_lxml = fromstring(response) # tostring(_, encoding='unicode')\n",
    "    response_html = response_lxml.xpath(xpath)\n",
    "    if get:\n",
    "        for _html in response_html:\n",
    "            result.append(_html.get(get))\n",
    "        return result\n",
    "    else:\n",
    "        return response_html"
   ]
  },
  {
   "cell_type": "code",
   "execution_count": 3,
   "id": "mexican-artwork",
   "metadata": {},
   "outputs": [
    {
     "data": {
      "text/plain": [
       "['https://cdn.imweb.me/thumbnail/20200326/da23be369c15f.png',\n",
       " 'https://cdn.imweb.me/thumbnail/20200324/9261f20884738.jpg',\n",
       " 'https://cdn.imweb.me/thumbnail/20200325/e1ad0be6bd492.jpg',\n",
       " 'https://cdn.imweb.me/thumbnail/20200302/741e555076a44.jpg',\n",
       " 'https://cdn.imweb.me/thumbnail/20200302/7761b0f5227fc.jpg',\n",
       " 'https://cdn.imweb.me/thumbnail/20200326/58091787124a9.png',\n",
       " 'https://cdn.imweb.me/thumbnail/20200309/c0b46c55e2c52.jpg']"
      ]
     },
     "execution_count": 3,
     "metadata": {},
     "output_type": "execute_result"
    }
   ],
   "source": [
    "xpath_text = {\n",
    "    \"style\":'//div[@doz_type=\"section\"]//div[contains(@class, \"_interactive_bg\") and contains(@class, \"fixed_bg\")]',  # 대표 Banner\n",
    "    \"src\":\"//main/div[@doz_type='inside']//div[@doz_type='widget']/div[@class='_widget_data ']//img[@class=' org_image']\", # Problem, Process, After\n",
    "}\n",
    "\n",
    "result = []\n",
    "for k,v in xpath_text.items():\n",
    "    result += get_image(regex_url, v, k)\n",
    "result = [\"\".join(regex_tokenizer.findall(_))  for _ in result]\n",
    "result"
   ]
  },
  {
   "cell_type": "code",
   "execution_count": 4,
   "id": "eligible-appendix",
   "metadata": {},
   "outputs": [
    {
     "data": {
      "text/plain": [
       "['https://cdn.imweb.me/thumbnail/20200326/6e0672c8d1a8c.png',\n",
       " 'https://cdn.imweb.me/thumbnail/20200326/48db0a7566e57.png',\n",
       " 'https://cdn.imweb.me/thumbnail/20200326/dac70c5dc8da5.png',\n",
       " 'https://cdn.imweb.me/thumbnail/20200326/35fb6bfa7304c.png',\n",
       " 'https://cdn.imweb.me/thumbnail/20200326/62539c120e524.png',\n",
       " 'https://cdn.imweb.me/thumbnail/20200326/e34163eae5c13.png',\n",
       " 'https://cdn.imweb.me/thumbnail/20200326/9a871b0a25ceb.png',\n",
       " 'https://cdn.imweb.me/thumbnail/20200326/38d6a414df5fd.png']"
      ]
     },
     "execution_count": 4,
     "metadata": {},
     "output_type": "execute_result"
    }
   ],
   "source": [
    "# Process 이미지 추출하기\n",
    "get_temp = get_image(regex_url, '//div[@class=\"widget _gallery_wrap \"]')\n",
    "if len(get_temp) >0:\n",
    "    text = tostring(get_temp[0]).decode('utf-8')\n",
    "else: text = ''\n",
    "list(set(regex_tokenizer.findall(text)))"
   ]
  },
  {
   "cell_type": "markdown",
   "id": "obvious-egyptian",
   "metadata": {},
   "source": [
    "## **2 Building to the Function**"
   ]
  },
  {
   "cell_type": "code",
   "execution_count": 5,
   "id": "proper-sampling",
   "metadata": {},
   "outputs": [],
   "source": [
    "page_index = 23\n",
    "\n",
    "import requests, re\n",
    "from lxml.html import fromstring, tostring\n",
    "regex_url = f\"http://arterior-ga.com/{page_index}\"\n",
    "regex_imweb = \"^https?://(?:[a-z0-9\\-]+\\.)+[a-z]{2,6}(?:/[^/#?]+)+\\.(?:jpg|gif|png)\"\n",
    "regex_imweb = \"https?:\\/\\/(?:www\\.|(?!www))cdn\\.imweb.me\\/thumbnail\\/[a-zA-Z0-9-]+\\/[a-zA-Z0-9-]+\\.(?:jpg|gif|png)\"\n",
    "regex_image = 'https?:\\/\\/(?:www\\.|(?!www))[a-zA-Z0-9][a-zA-Z0-9-]+[a-zA-Z0-9]\\.[^\\s]{2,}|www\\.[a-zA-Z0-9][a-zA-Z0-9-]+[a-zA-Z0-9]\\.(?:jpg|gif|png)$|https?:\\/\\/(?:www\\.|(?!www))[a-zA-Z0-9]+\\.[^\\s]{2,}|www\\.[a-zA-Z0-9]+\\.(?:jpg|gif|png)$'\n",
    "regex_tokenizer = re.compile(regex_imweb)\n",
    "\n",
    "def get_image(url:str, xpath:str, get=None):\n",
    "    result = []\n",
    "    response      = requests.get(url).content.decode('utf-8')\n",
    "    response_lxml = fromstring(response) # tostring(_, encoding='unicode')\n",
    "    response_html = response_lxml.xpath(xpath)\n",
    "    if get:\n",
    "        for _html in response_html:\n",
    "            result.append(_html.get(get))\n",
    "        return result\n",
    "    else:\n",
    "        return response_html\n",
    "\n",
    "def get_image_urls(page_index):\n",
    "    result_dict = {}\n",
    "    xpath_text = {\n",
    "        \"style\":'//div[@doz_type=\"section\"]//div[contains(@class, \"_interactive_bg\") and contains(@class, \"fixed_bg\")]',  # 대표 Banner\n",
    "        \"src\":\"//main/div[@doz_type='inside']//div[@doz_type='widget']/div[@class='_widget_data ']//img[@class=' org_image']\", # Problem, Process, After\n",
    "    }\n",
    "\n",
    "    result = []\n",
    "    for k,v in xpath_text.items():\n",
    "        result += get_image(regex_url, v, k)\n",
    "    result = [\"\".join(regex_tokenizer.findall(_))  for _ in result]\n",
    "    result_dict['main'] = result\n",
    "\n",
    "    # Process 이미지 추출하기\n",
    "    get_temp = get_image(regex_url, '//div[@class=\"widget _gallery_wrap \"]')\n",
    "    if len(get_temp) >0:\n",
    "        text = tostring(get_temp[0]).decode('utf-8')\n",
    "    else: text = ''\n",
    "    # return result + list(set(regex_tokenizer.findall(text)))\n",
    "    result_dict['after'] = list(set(regex_tokenizer.findall(text)))\n",
    "    return result_dict"
   ]
  },
  {
   "cell_type": "code",
   "execution_count": 6,
   "id": "touched-hurricane",
   "metadata": {},
   "outputs": [
    {
     "data": {
      "text/plain": [
       "{'main': ['https://cdn.imweb.me/thumbnail/20200326/b9b699e781255.png',\n",
       "  'https://cdn.imweb.me/thumbnail/20200325/d577d36491c33.jpg',\n",
       "  'https://cdn.imweb.me/thumbnail/20200325/8eae0ad648473.png',\n",
       "  'https://cdn.imweb.me/thumbnail/20200325/1087a12d8dc5f.png',\n",
       "  'https://cdn.imweb.me/thumbnail/20200325/2fab64e3b2141.png',\n",
       "  'https://cdn.imweb.me/thumbnail/20200326/d01e17710ae2e.png',\n",
       "  'https://cdn.imweb.me/thumbnail/20200310/9e670219333a9.jpg'],\n",
       " 'after': ['https://cdn.imweb.me/thumbnail/20200326/0d73c2e7c2563.png',\n",
       "  'https://cdn.imweb.me/thumbnail/20200326/4956ffc730e67.png',\n",
       "  'https://cdn.imweb.me/thumbnail/20200326/5b67535616f17.png',\n",
       "  'https://cdn.imweb.me/thumbnail/20200326/f5a2b09b56f9d.png',\n",
       "  'https://cdn.imweb.me/thumbnail/20200326/d936bf6049980.png',\n",
       "  'https://cdn.imweb.me/thumbnail/20200326/96c734eaeb394.png']}"
      ]
     },
     "execution_count": 6,
     "metadata": {},
     "output_type": "execute_result"
    }
   ],
   "source": [
    "get_image_urls(2)"
   ]
  },
  {
   "cell_type": "markdown",
   "id": "confused-reader",
   "metadata": {},
   "source": [
    "## **3 Download And Change the File name**"
   ]
  },
  {
   "cell_type": "code",
   "execution_count": null,
   "id": "subtle-qualification",
   "metadata": {},
   "outputs": [],
   "source": [
    "test_link = 'https://cdn.imweb.me/thumbnail/20200326/0d73c2e7c2563.png'\n",
    "\n",
    "import re, os\n",
    "def change_file_name(link, rename=None):\n",
    "    r\"\"\"Image Links Change to 'rename' file\"\"\"\n",
    "    # Download the Link file\n",
    "    os.system(f\"wget {link}\")\n",
    "\n",
    "    # Get the File name components\n",
    "    tokenizer = re.compile(\"[A-z0-9]+\\.(?:jpg|gif|png)\")\n",
    "    file_full_name = \"\".join(tokenizer.findall(text_test))\n",
    "    file_name = file_full_name.split('.')[0]\n",
    "    file_format = file_full_name.split('.')[-1]\n",
    "    \n",
    "    # Changing the File name\n",
    "    file_full_name = file_full_name.replace('.', '\\.') # 원본 regex 문법에 맞게 변경\n",
    "    if rename:\n",
    "        rename = rename + '\\.' + file_format   # 대상 확장자 추가 및 regex 문법에 맞게 변경\n",
    "        os.system(f\"mv {file_full_name} {rename}\")\n",
    "    else:\n",
    "        pass"
   ]
  }
 ],
 "metadata": {
  "kernelspec": {
   "display_name": "Python 3",
   "language": "python",
   "name": "python3"
  },
  "language_info": {
   "codemirror_mode": {
    "name": "ipython",
    "version": 3
   },
   "file_extension": ".py",
   "mimetype": "text/x-python",
   "name": "python",
   "nbconvert_exporter": "python",
   "pygments_lexer": "ipython3",
   "version": "3.6.8"
  }
 },
 "nbformat": 4,
 "nbformat_minor": 5
}
