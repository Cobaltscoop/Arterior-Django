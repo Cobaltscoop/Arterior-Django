{
 "cells": [
  {
   "cell_type": "markdown",
   "id": "thermal-uruguay",
   "metadata": {},
   "source": [
    "# **Image Optimization & DB 2019**\n",
    "## **1 Gallery 2019 DataBases**\n",
    "```\n",
    "GET Text Data\n",
    "```"
   ]
  },
  {
   "cell_type": "code",
   "execution_count": 1,
   "id": "color-correction",
   "metadata": {},
   "outputs": [],
   "source": [
    "import requests, re\n",
    "from lxml.html import fromstring, tostring\n",
    "\n",
    "# Link 및 Text 정보 수집하기\n",
    "def get_response(url:str, xpath:str, get=None):\n",
    "    result = []\n",
    "    response      = requests.get(url).content.decode('utf-8')\n",
    "    response_lxml = fromstring(response) # tostring(_, encoding='unicode')\n",
    "    response_html = response_lxml.xpath(xpath)\n",
    "    if get:\n",
    "        for _html in response_html:\n",
    "            result.append(_html.get(get))\n",
    "        return result\n",
    "    else:\n",
    "        return response_html"
   ]
  },
  {
   "cell_type": "code",
   "execution_count": 2,
   "id": "enabling-controversy",
   "metadata": {},
   "outputs": [],
   "source": [
    "import re, os\n",
    "\n",
    "# 파일 다운로드 및 이름 바꾸기\n",
    "def change_file_name(link, rename=None):\n",
    "    r\"\"\"Image Links Change to 'rename' file\"\"\"\n",
    "    # Download the Link file\n",
    "    os.system(f\"wget {link}\")\n",
    "\n",
    "    # Get the File name components\n",
    "    tokenizer = re.compile(\"[A-z0-9]+\\.(?:jpg|gif|png|jpeg)\")\n",
    "    file_full_name = \"\".join(tokenizer.findall(link))\n",
    "    file_name = file_full_name.split('.')[0]\n",
    "    file_format = file_full_name.split('.')[-1]\n",
    "    \n",
    "    # Changing the File name\n",
    "    file_full_name = file_full_name.replace('.', '\\.') # 원본 regex 문법에 맞게 변경\n",
    "    if rename:\n",
    "        rename = rename + '\\.' + file_format   # 대상 확장자 추가 및 regex 문법에 맞게 변경\n",
    "        os.system(f\"mv {file_full_name} {rename}\")\n",
    "    else:\n",
    "        pass"
   ]
  },
  {
   "cell_type": "code",
   "execution_count": 3,
   "id": "unable-skirt",
   "metadata": {},
   "outputs": [
    {
     "data": {
      "text/plain": [
       "37"
      ]
     },
     "execution_count": 3,
     "metadata": {},
     "output_type": "execute_result"
    }
   ],
   "source": [
    "url = \"http://arterior-ga.com/97\"\n",
    "gallery_xpath = '//div[@doz_type=\"widget\"]//div[contains(@class, \"grid_02\") and contains(@class, \"img_border\")]'\n",
    "gallery_photo_xpath = './/div[contains(@class, \"item_container\") and contains(@class, \"_item_container\")]'\n",
    "gallery_photo_xpath ='.//div[contains(@class,\"_item\") and contains(@class, \"item_gallary\")]'\n",
    "# Gallery 영역 찾기 > Gallery 내부의 Photo 영역 찾기\n",
    "response = get_response(url, gallery_xpath)[0] # tostring(response[0], encoding='unicode')  # 내용의 확인\n",
    "response = response.xpath(gallery_photo_xpath)\n",
    "len(response)"
   ]
  },
  {
   "cell_type": "markdown",
   "id": "loose-empire",
   "metadata": {},
   "source": [
    "## **2 Gallery Data From Each Photos**\n",
    "개별 사진에서 Photo 사진 및 Text 추출하기"
   ]
  },
  {
   "cell_type": "code",
   "execution_count": 4,
   "id": "connected-instrument",
   "metadata": {},
   "outputs": [
    {
     "data": {
      "text/plain": [
       "[['https://cdn.imweb.me/thumbnail/20200327/4166b65ca0f48.jpg',\n",
       "  '<p class=\"title\">내부미팅<span class=\"body\">첫 내부미팅입니다. 약간 교주님(?) 같으신 꽃별대표님!</span></p>'],\n",
       " ['https://cdn.imweb.me/thumbnail/20200327/90e3e846a9cb0.jpg',\n",
       "  '<p class=\"title\">워크숍</p>'],\n",
       " ['https://cdn.imweb.me/thumbnail/20200327/20250c78573b2.jpg',\n",
       "  '<p class=\"title\">개별미팅<span class=\"body\">#박호은작가</span></p>'],\n",
       " ['https://cdn.imweb.me/thumbnail/20200327/3ab8519013fe3.jpg',\n",
       "  '<p class=\"title\">현장설치<span class=\"body\">동네사람들 모두 구경도 나오고요. </span></p>']]"
      ]
     },
     "execution_count": 4,
     "metadata": {},
     "output_type": "execute_result"
    }
   ],
   "source": [
    "regex_imweb = \"https?:\\/\\/(?:www\\.|(?!www))cdn\\.imweb.me\\/thumbnail\\/[a-zA-Z0-9-]+\\/[a-zA-Z0-9-]+\\.(?:jpg|gif|png|jpeg)\"\n",
    "result = []\n",
    "for photo in response:\n",
    "    # photo_url\n",
    "    photo_url = photo.xpath('.//div[contains(@class, \"_img_wrap\")]')[0].get('style')\n",
    "    photo_url = \"\".join(re.findall(regex_imweb, photo_url))\n",
    "    # photo_title\n",
    "    photo_title = tostring(photo.xpath('.//h4')[0], encoding='unicode')\n",
    "    # photo_description\n",
    "    photo_title = tostring(photo.xpath('.//p[@class=\"title\"]')[0], encoding='unicode')\n",
    "    result.append([photo_url, photo_title])\n",
    "result[::10]"
   ]
  },
  {
   "cell_type": "markdown",
   "id": "alert-bruce",
   "metadata": {},
   "source": [
    "## **3 Saving Data Set**\n",
    "추출한 자료를 바탕으로 저장하기"
   ]
  },
  {
   "cell_type": "code",
   "execution_count": 5,
   "id": "unknown-marketing",
   "metadata": {},
   "outputs": [
    {
     "name": "stderr",
     "output_type": "stream",
     "text": [
      "37it [00:02, 14.40it/s]\n"
     ]
    }
   ],
   "source": [
    "import os\n",
    "from tqdm import tqdm\n",
    "links = [_[0]   for _ in result]\n",
    "\n",
    "for no, _ in tqdm(enumerate(links)):\n",
    "    change_file_name(_, f'gallery{no:02d}')"
   ]
  },
  {
   "cell_type": "code",
   "execution_count": 17,
   "id": "simple-deadline",
   "metadata": {},
   "outputs": [],
   "source": [
    "import pandas as pd\n",
    "table = pd.DataFrame(result)"
   ]
  },
  {
   "cell_type": "code",
   "execution_count": 18,
   "id": "material-portsmouth",
   "metadata": {},
   "outputs": [
    {
     "data": {
      "text/html": [
       "<div>\n",
       "<style scoped>\n",
       "    .dataframe tbody tr th:only-of-type {\n",
       "        vertical-align: middle;\n",
       "    }\n",
       "\n",
       "    .dataframe tbody tr th {\n",
       "        vertical-align: top;\n",
       "    }\n",
       "\n",
       "    .dataframe thead th {\n",
       "        text-align: right;\n",
       "    }\n",
       "</style>\n",
       "<table border=\"1\" class=\"dataframe\">\n",
       "  <thead>\n",
       "    <tr style=\"text-align: right;\">\n",
       "      <th></th>\n",
       "      <th>0</th>\n",
       "      <th>1</th>\n",
       "    </tr>\n",
       "  </thead>\n",
       "  <tbody>\n",
       "    <tr>\n",
       "      <th>0</th>\n",
       "      <td>https://cdn.imweb.me/thumbnail/20200327/4166b6...</td>\n",
       "      <td>내부미팅첫 내부미팅입니다. 약간 교주님(?) 같으신 꽃별대표님!</td>\n",
       "    </tr>\n",
       "    <tr>\n",
       "      <th>1</th>\n",
       "      <td>https://cdn.imweb.me/thumbnail/20200327/0125c8...</td>\n",
       "      <td>면접일</td>\n",
       "    </tr>\n",
       "    <tr>\n",
       "      <th>2</th>\n",
       "      <td>https://cdn.imweb.me/thumbnail/20200327/800b64...</td>\n",
       "      <td>면접일</td>\n",
       "    </tr>\n",
       "    <tr>\n",
       "      <th>3</th>\n",
       "      <td>https://cdn.imweb.me/thumbnail/20200327/548416...</td>\n",
       "      <td>설명회관악구청에서 소상공인 대상 설명회를 진행했습니다.</td>\n",
       "    </tr>\n",
       "    <tr>\n",
       "      <th>4</th>\n",
       "      <td>https://cdn.imweb.me/thumbnail/20200327/116d28...</td>\n",
       "      <td>오리엔테이션</td>\n",
       "    </tr>\n",
       "  </tbody>\n",
       "</table>\n",
       "</div>"
      ],
      "text/plain": [
       "                                                   0  \\\n",
       "0  https://cdn.imweb.me/thumbnail/20200327/4166b6...   \n",
       "1  https://cdn.imweb.me/thumbnail/20200327/0125c8...   \n",
       "2  https://cdn.imweb.me/thumbnail/20200327/800b64...   \n",
       "3  https://cdn.imweb.me/thumbnail/20200327/548416...   \n",
       "4  https://cdn.imweb.me/thumbnail/20200327/116d28...   \n",
       "\n",
       "                                     1  \n",
       "0  내부미팅첫 내부미팅입니다. 약간 교주님(?) 같으신 꽃별대표님!  \n",
       "1                                  면접일  \n",
       "2                                  면접일  \n",
       "3       설명회관악구청에서 소상공인 대상 설명회를 진행했습니다.  \n",
       "4                               오리엔테이션  "
      ]
     },
     "execution_count": 18,
     "metadata": {},
     "output_type": "execute_result"
    }
   ],
   "source": [
    "regex_html = re.compile(r'<.*?>')\n",
    "table[1] = [regex_html.sub('', _)  for _ in table[1]]\n",
    "table.head()"
   ]
  },
  {
   "cell_type": "code",
   "execution_count": 19,
   "id": "tough-resource",
   "metadata": {},
   "outputs": [],
   "source": [
    "table.to_csv('gallery.csv')"
   ]
  },
  {
   "cell_type": "code",
   "execution_count": null,
   "id": "instant-starter",
   "metadata": {},
   "outputs": [],
   "source": []
  }
 ],
 "metadata": {
  "kernelspec": {
   "display_name": "Python 3",
   "language": "python",
   "name": "python3"
  },
  "language_info": {
   "codemirror_mode": {
    "name": "ipython",
    "version": 3
   },
   "file_extension": ".py",
   "mimetype": "text/x-python",
   "name": "python",
   "nbconvert_exporter": "python",
   "pygments_lexer": "ipython3",
   "version": "3.6.8"
  }
 },
 "nbformat": 4,
 "nbformat_minor": 5
}
